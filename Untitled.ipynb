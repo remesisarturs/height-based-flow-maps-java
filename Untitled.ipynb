{
 "cells": [
  {
   "cell_type": "code",
   "execution_count": 5,
   "id": "fb4e3d18",
   "metadata": {},
   "outputs": [],
   "source": [
    "import imageio\n",
    "import numpy as np"
   ]
  },
  {
   "cell_type": "code",
   "execution_count": 132,
   "id": "97f24ce1",
   "metadata": {},
   "outputs": [],
   "source": [
    "import os\n",
    "import numpy as np\n",
    "import PIL\n",
    "from PIL import Image\n",
    "import re\n"
   ]
  },
  {
   "cell_type": "code",
   "execution_count": 152,
   "id": "9f62ed7f",
   "metadata": {},
   "outputs": [],
   "source": [
    "gifs = []\n",
    "\n",
    "location = \"2022_04_18_12_27_16_DIJKSTRA_EUCLID\"\n",
    "\n",
    "valid_images = [\".gif\"]\n",
    "arr = os.listdir(r'C:\\\\Users\\\\20175326\\\\Desktop\\\\Thesis\\\\Code\\\\height-based-flow-maps-java\\\\Height based flow maps\\\\experiments\\\\' + location)\n",
    "\n",
    "imgs = []\n",
    "gif_location = []\n",
    "for item in arr:\n",
    "    path = 'C:\\\\Users\\\\20175326\\\\Desktop\\\\Thesis\\\\Code\\\\height-based-flow-maps-java\\\\Height based flow maps\\\\experiments\\\\' + location\n",
    "    path = path + \"\\\\\" + item\n",
    "    for f in os.listdir(path):\n",
    "        ext = os.path.splitext(f)[1]\n",
    "        if ext.lower() not in valid_images:\n",
    "            continue\n",
    "        gif_location.append(os.path.join(path,f))\n",
    "        #print(os.path.join(path,f))\n",
    "        #Image.show(os.path.join(path,f))\n",
    "        #imgs.append(Image.open(os.path.join(path,f)))\n",
    "#gif_location    "
   ]
  },
  {
   "cell_type": "code",
   "execution_count": null,
   "id": "6b8756fd",
   "metadata": {},
   "outputs": [],
   "source": []
  },
  {
   "cell_type": "code",
   "execution_count": 162,
   "id": "e4d54843",
   "metadata": {},
   "outputs": [],
   "source": [
    "def atoi(text):\n",
    "    return int(text) if text.isdigit() else text\n",
    "\n",
    "def natural_keys(text):\n",
    "    '''\n",
    "    alist.sort(key=natural_keys) sorts in human order\n",
    "    http://nedbatchelder.com/blog/200712/human_sorting.html\n",
    "    (See Toothy's implementation in the comments)\n",
    "    '''\n",
    "    return [ atoi(c) for c in re.split(r'(\\d+)', text) ]"
   ]
  },
  {
   "cell_type": "code",
   "execution_count": 169,
   "id": "ccac9c8b",
   "metadata": {},
   "outputs": [],
   "source": [
    "gif_location.sort(key=natural_keys)\n",
    "#print(gif_location)"
   ]
  },
  {
   "cell_type": "code",
   "execution_count": 168,
   "id": "7107316c",
   "metadata": {},
   "outputs": [],
   "source": [
    "gifs = []\n",
    "\n",
    "for item in gif_location:\n",
    "    gifs.append(imageio.get_reader(item))\n",
    "#print(len(gifs))\n",
    "\n",
    "#If they don't have the same number of frame take the shorter\n",
    "number_of_frames = gifs[0].get_length()#min(gif1.get_length(), gif2.get_length()) \n",
    "\n",
    "new_gif = imageio.get_writer('output.gif', fps=1)\n",
    "\n",
    "for frame_number in range(number_of_frames):\n",
    "    counter = 0\n",
    "    \n",
    "    img1 = gifs[0].get_next_data()\n",
    "    img2 = gifs[1].get_next_data()    \n",
    "   \n",
    "    new_image = np.hstack((img1, img2))\n",
    "    \n",
    "    for gif in gifs[2:]:\n",
    "    \n",
    "        img = gif.get_next_data()\n",
    "        new_image = np.hstack((new_image, img))\n",
    "    new_gif.append_data(new_image)\n",
    "\n",
    "\n",
    "for gif in gifs:\n",
    "    gif.close()\n",
    "new_gif.close()\n"
   ]
  }
 ],
 "metadata": {
  "kernelspec": {
   "display_name": "Python 3 (ipykernel)",
   "language": "python",
   "name": "python3"
  },
  "language_info": {
   "codemirror_mode": {
    "name": "ipython",
    "version": 3
   },
   "file_extension": ".py",
   "mimetype": "text/x-python",
   "name": "python",
   "nbconvert_exporter": "python",
   "pygments_lexer": "ipython3",
   "version": "3.7.3"
  }
 },
 "nbformat": 4,
 "nbformat_minor": 5
}
